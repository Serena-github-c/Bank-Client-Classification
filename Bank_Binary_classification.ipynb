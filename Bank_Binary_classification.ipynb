{
 "cells": [
  {
   "cell_type": "markdown",
   "id": "f82d6e39-0cba-46ad-ac29-46ba33188f67",
   "metadata": {},
   "source": [
    "# Binary Classification\n",
    "\n",
    "In this project, the target for classification is the y variable - has the client subscribed a term deposit or not.\n"
   ]
  },
  {
   "cell_type": "code",
   "execution_count": 1,
   "id": "b40bdcb6-89b1-45fa-b58f-76548a8dcc9b",
   "metadata": {},
   "outputs": [],
   "source": [
    "import pandas as pd\n",
    "import numpy as np\n",
    "\n",
    "import matplotlib.pyplot as plt"
   ]
  },
  {
   "cell_type": "code",
   "execution_count": 2,
   "id": "0551b8a4-a31d-4aa1-a0db-f7084e6fe612",
   "metadata": {},
   "outputs": [
    {
     "data": {
      "text/html": [
       "<div>\n",
       "<style scoped>\n",
       "    .dataframe tbody tr th:only-of-type {\n",
       "        vertical-align: middle;\n",
       "    }\n",
       "\n",
       "    .dataframe tbody tr th {\n",
       "        vertical-align: top;\n",
       "    }\n",
       "\n",
       "    .dataframe thead th {\n",
       "        text-align: right;\n",
       "    }\n",
       "</style>\n",
       "<table border=\"1\" class=\"dataframe\">\n",
       "  <thead>\n",
       "    <tr style=\"text-align: right;\">\n",
       "      <th></th>\n",
       "      <th>age</th>\n",
       "      <th>job</th>\n",
       "      <th>marital</th>\n",
       "      <th>education</th>\n",
       "      <th>default</th>\n",
       "      <th>balance</th>\n",
       "      <th>housing</th>\n",
       "      <th>loan</th>\n",
       "      <th>contact</th>\n",
       "      <th>day</th>\n",
       "      <th>month</th>\n",
       "      <th>duration</th>\n",
       "      <th>campaign</th>\n",
       "      <th>pdays</th>\n",
       "      <th>previous</th>\n",
       "      <th>poutcome</th>\n",
       "      <th>y</th>\n",
       "    </tr>\n",
       "  </thead>\n",
       "  <tbody>\n",
       "    <tr>\n",
       "      <th>0</th>\n",
       "      <td>58</td>\n",
       "      <td>management</td>\n",
       "      <td>married</td>\n",
       "      <td>tertiary</td>\n",
       "      <td>no</td>\n",
       "      <td>2143</td>\n",
       "      <td>yes</td>\n",
       "      <td>no</td>\n",
       "      <td>unknown</td>\n",
       "      <td>5</td>\n",
       "      <td>may</td>\n",
       "      <td>261</td>\n",
       "      <td>1</td>\n",
       "      <td>-1</td>\n",
       "      <td>0</td>\n",
       "      <td>unknown</td>\n",
       "      <td>no</td>\n",
       "    </tr>\n",
       "    <tr>\n",
       "      <th>1</th>\n",
       "      <td>44</td>\n",
       "      <td>technician</td>\n",
       "      <td>single</td>\n",
       "      <td>secondary</td>\n",
       "      <td>no</td>\n",
       "      <td>29</td>\n",
       "      <td>yes</td>\n",
       "      <td>no</td>\n",
       "      <td>unknown</td>\n",
       "      <td>5</td>\n",
       "      <td>may</td>\n",
       "      <td>151</td>\n",
       "      <td>1</td>\n",
       "      <td>-1</td>\n",
       "      <td>0</td>\n",
       "      <td>unknown</td>\n",
       "      <td>no</td>\n",
       "    </tr>\n",
       "    <tr>\n",
       "      <th>2</th>\n",
       "      <td>33</td>\n",
       "      <td>entrepreneur</td>\n",
       "      <td>married</td>\n",
       "      <td>secondary</td>\n",
       "      <td>no</td>\n",
       "      <td>2</td>\n",
       "      <td>yes</td>\n",
       "      <td>yes</td>\n",
       "      <td>unknown</td>\n",
       "      <td>5</td>\n",
       "      <td>may</td>\n",
       "      <td>76</td>\n",
       "      <td>1</td>\n",
       "      <td>-1</td>\n",
       "      <td>0</td>\n",
       "      <td>unknown</td>\n",
       "      <td>no</td>\n",
       "    </tr>\n",
       "    <tr>\n",
       "      <th>3</th>\n",
       "      <td>47</td>\n",
       "      <td>blue-collar</td>\n",
       "      <td>married</td>\n",
       "      <td>unknown</td>\n",
       "      <td>no</td>\n",
       "      <td>1506</td>\n",
       "      <td>yes</td>\n",
       "      <td>no</td>\n",
       "      <td>unknown</td>\n",
       "      <td>5</td>\n",
       "      <td>may</td>\n",
       "      <td>92</td>\n",
       "      <td>1</td>\n",
       "      <td>-1</td>\n",
       "      <td>0</td>\n",
       "      <td>unknown</td>\n",
       "      <td>no</td>\n",
       "    </tr>\n",
       "    <tr>\n",
       "      <th>4</th>\n",
       "      <td>33</td>\n",
       "      <td>unknown</td>\n",
       "      <td>single</td>\n",
       "      <td>unknown</td>\n",
       "      <td>no</td>\n",
       "      <td>1</td>\n",
       "      <td>no</td>\n",
       "      <td>no</td>\n",
       "      <td>unknown</td>\n",
       "      <td>5</td>\n",
       "      <td>may</td>\n",
       "      <td>198</td>\n",
       "      <td>1</td>\n",
       "      <td>-1</td>\n",
       "      <td>0</td>\n",
       "      <td>unknown</td>\n",
       "      <td>no</td>\n",
       "    </tr>\n",
       "  </tbody>\n",
       "</table>\n",
       "</div>"
      ],
      "text/plain": [
       "   age           job  marital  education default  balance housing loan  \\\n",
       "0   58    management  married   tertiary      no     2143     yes   no   \n",
       "1   44    technician   single  secondary      no       29     yes   no   \n",
       "2   33  entrepreneur  married  secondary      no        2     yes  yes   \n",
       "3   47   blue-collar  married    unknown      no     1506     yes   no   \n",
       "4   33       unknown   single    unknown      no        1      no   no   \n",
       "\n",
       "   contact  day month  duration  campaign  pdays  previous poutcome   y  \n",
       "0  unknown    5   may       261         1     -1         0  unknown  no  \n",
       "1  unknown    5   may       151         1     -1         0  unknown  no  \n",
       "2  unknown    5   may        76         1     -1         0  unknown  no  \n",
       "3  unknown    5   may        92         1     -1         0  unknown  no  \n",
       "4  unknown    5   may       198         1     -1         0  unknown  no  "
      ]
     },
     "execution_count": 2,
     "metadata": {},
     "output_type": "execute_result"
    }
   ],
   "source": [
    "df = pd.read_csv('bank-full.csv', delimiter=';')\n",
    "df.head()"
   ]
  },
  {
   "cell_type": "markdown",
   "id": "35763e6d-7f26-41d2-bc46-01536fec581c",
   "metadata": {},
   "source": [
    "## EDA"
   ]
  },
  {
   "cell_type": "code",
   "execution_count": 3,
   "id": "bcef19aa-32e5-42d6-87e0-986d251f053c",
   "metadata": {},
   "outputs": [
    {
     "data": {
      "text/plain": [
       "Index(['age', 'job', 'marital', 'education', 'default', 'balance', 'housing',\n",
       "       'loan', 'contact', 'day', 'month', 'duration', 'campaign', 'pdays',\n",
       "       'previous', 'poutcome', 'y'],\n",
       "      dtype='object')"
      ]
     },
     "execution_count": 3,
     "metadata": {},
     "output_type": "execute_result"
    }
   ],
   "source": [
    "df.columns"
   ]
  },
  {
   "cell_type": "code",
   "execution_count": 4,
   "id": "3a15c82a-da1a-456e-bfb2-c7db07820166",
   "metadata": {},
   "outputs": [
    {
     "data": {
      "text/plain": [
       "age           int64\n",
       "job          object\n",
       "marital      object\n",
       "education    object\n",
       "default      object\n",
       "balance       int64\n",
       "housing      object\n",
       "loan         object\n",
       "contact      object\n",
       "day           int64\n",
       "month        object\n",
       "duration      int64\n",
       "campaign      int64\n",
       "pdays         int64\n",
       "previous      int64\n",
       "poutcome     object\n",
       "y            object\n",
       "dtype: object"
      ]
     },
     "execution_count": 4,
     "metadata": {},
     "output_type": "execute_result"
    }
   ],
   "source": [
    "df.dtypes"
   ]
  },
  {
   "cell_type": "code",
   "execution_count": 5,
   "id": "85b583e2-0c2d-4730-b4e3-f2308e30e6f3",
   "metadata": {},
   "outputs": [
    {
     "name": "stdout",
     "output_type": "stream",
     "text": [
      "age 77\n",
      "[58 44 33 47 35 28 42 43 41 29 53 57]\n",
      "\n",
      "job 12\n",
      "['management' 'technician' 'entrepreneur' 'blue-collar' 'unknown'\n",
      " 'retired' 'admin.' 'services' 'self-employed' 'unemployed' 'housemaid'\n",
      " 'student']\n",
      "\n",
      "marital 3\n",
      "['married' 'single' 'divorced']\n",
      "\n",
      "education 4\n",
      "['tertiary' 'secondary' 'unknown' 'primary']\n",
      "\n",
      "default 2\n",
      "['no' 'yes']\n",
      "\n",
      "balance 7168\n",
      "[2143   29    2 1506    1  231  447  121  593  270  390    6]\n",
      "\n",
      "housing 2\n",
      "['yes' 'no']\n",
      "\n",
      "loan 2\n",
      "['no' 'yes']\n",
      "\n",
      "contact 3\n",
      "['unknown' 'cellular' 'telephone']\n",
      "\n",
      "day 31\n",
      "[ 5  6  7  8  9 12 13 14 15 16 19 20]\n",
      "\n",
      "month 12\n",
      "['may' 'jun' 'jul' 'aug' 'oct' 'nov' 'dec' 'jan' 'feb' 'mar' 'apr' 'sep']\n",
      "\n",
      "duration 1573\n",
      "[261 151  76  92 198 139 217 380  50  55 222 137]\n",
      "\n",
      "campaign 48\n",
      "[ 1  2  3  5  4  6  7  8  9 10 11 12]\n",
      "\n",
      "pdays 559\n",
      "[ -1 151 166  91  86 143 147  89 140 176 101 174]\n",
      "\n",
      "previous 41\n",
      "[ 0  3  1  4  2 11 16  6  5 10 12  7]\n",
      "\n",
      "poutcome 4\n",
      "['unknown' 'failure' 'other' 'success']\n",
      "\n",
      "y 2\n",
      "['no' 'yes']\n",
      "\n"
     ]
    }
   ],
   "source": [
    "for c in df.columns:\n",
    "    print(c, df[c].nunique())\n",
    "    print(df[c].unique()[:12])\n",
    "    print()"
   ]
  },
  {
   "cell_type": "code",
   "execution_count": 6,
   "id": "227e3540-30f5-4521-af33-4f38cba7c3ee",
   "metadata": {},
   "outputs": [],
   "source": [
    "chosen_features = ['age', 'job', 'marital', 'education', 'balance', 'housing',\n",
    "        'contact', 'day', 'month', 'duration', 'campaign', 'pdays',\n",
    "       'previous', 'poutcome', 'y']\n",
    "    "
   ]
  },
  {
   "cell_type": "code",
   "execution_count": 7,
   "id": "cecdf07d-a6e5-4229-99c2-481b2e0cd0bd",
   "metadata": {},
   "outputs": [],
   "source": [
    "df = df[chosen_features] "
   ]
  },
  {
   "cell_type": "code",
   "execution_count": 8,
   "id": "d16356d0-6db3-48c1-94d5-486e068d123b",
   "metadata": {},
   "outputs": [
    {
     "data": {
      "text/plain": [
       "age          0\n",
       "job          0\n",
       "marital      0\n",
       "education    0\n",
       "balance      0\n",
       "housing      0\n",
       "contact      0\n",
       "day          0\n",
       "month        0\n",
       "duration     0\n",
       "campaign     0\n",
       "pdays        0\n",
       "previous     0\n",
       "poutcome     0\n",
       "y            0\n",
       "dtype: int64"
      ]
     },
     "execution_count": 8,
     "metadata": {},
     "output_type": "execute_result"
    }
   ],
   "source": [
    "df.isnull().sum()"
   ]
  },
  {
   "cell_type": "code",
   "execution_count": 9,
   "id": "c79be7d1-3759-43c8-b48c-9447e67dcc9f",
   "metadata": {},
   "outputs": [
    {
     "data": {
      "text/plain": [
       "0    secondary\n",
       "Name: education, dtype: object"
      ]
     },
     "execution_count": 9,
     "metadata": {},
     "output_type": "execute_result"
    }
   ],
   "source": [
    "df['education'].mode()"
   ]
  },
  {
   "cell_type": "code",
   "execution_count": 10,
   "id": "13103256-6551-4516-a237-9cf85bf4ccf6",
   "metadata": {},
   "outputs": [
    {
     "data": {
      "text/plain": [
       "age           True\n",
       "job          False\n",
       "marital      False\n",
       "education    False\n",
       "balance       True\n",
       "housing      False\n",
       "contact      False\n",
       "day           True\n",
       "month        False\n",
       "duration      True\n",
       "campaign      True\n",
       "pdays         True\n",
       "previous      True\n",
       "poutcome     False\n",
       "y            False\n",
       "dtype: bool"
      ]
     },
     "execution_count": 10,
     "metadata": {},
     "output_type": "execute_result"
    }
   ],
   "source": [
    "(df.dtypes != object)"
   ]
  },
  {
   "cell_type": "code",
   "execution_count": 11,
   "id": "785c2540-48d5-412b-b2fa-4359d3cb030f",
   "metadata": {},
   "outputs": [],
   "source": [
    "numerical_features = [ 'age', 'balance', 'day', 'duration', 'campaign', 'pdays', 'previous']"
   ]
  },
  {
   "cell_type": "code",
   "execution_count": 12,
   "id": "78c2842b-a68e-436a-b2fe-f1edbe759d6e",
   "metadata": {},
   "outputs": [],
   "source": [
    "categorical_features = [ 'job', 'marital', 'education', 'housing', 'contact', 'month', 'poutcome']"
   ]
  },
  {
   "cell_type": "code",
   "execution_count": 13,
   "id": "7c87efcb-63b1-4882-bceb-4898c89662ef",
   "metadata": {},
   "outputs": [
    {
     "data": {
      "text/html": [
       "<div>\n",
       "<style scoped>\n",
       "    .dataframe tbody tr th:only-of-type {\n",
       "        vertical-align: middle;\n",
       "    }\n",
       "\n",
       "    .dataframe tbody tr th {\n",
       "        vertical-align: top;\n",
       "    }\n",
       "\n",
       "    .dataframe thead th {\n",
       "        text-align: right;\n",
       "    }\n",
       "</style>\n",
       "<table border=\"1\" class=\"dataframe\">\n",
       "  <thead>\n",
       "    <tr style=\"text-align: right;\">\n",
       "      <th></th>\n",
       "      <th>age</th>\n",
       "      <th>balance</th>\n",
       "      <th>day</th>\n",
       "      <th>duration</th>\n",
       "      <th>campaign</th>\n",
       "      <th>pdays</th>\n",
       "      <th>previous</th>\n",
       "    </tr>\n",
       "  </thead>\n",
       "  <tbody>\n",
       "    <tr>\n",
       "      <th>age</th>\n",
       "      <td>1.000000</td>\n",
       "      <td>0.097783</td>\n",
       "      <td>-0.009120</td>\n",
       "      <td>-0.004648</td>\n",
       "      <td>0.004760</td>\n",
       "      <td>-0.023758</td>\n",
       "      <td>0.001288</td>\n",
       "    </tr>\n",
       "    <tr>\n",
       "      <th>balance</th>\n",
       "      <td>0.097783</td>\n",
       "      <td>1.000000</td>\n",
       "      <td>0.004503</td>\n",
       "      <td>0.021560</td>\n",
       "      <td>-0.014578</td>\n",
       "      <td>0.003435</td>\n",
       "      <td>0.016674</td>\n",
       "    </tr>\n",
       "    <tr>\n",
       "      <th>day</th>\n",
       "      <td>-0.009120</td>\n",
       "      <td>0.004503</td>\n",
       "      <td>1.000000</td>\n",
       "      <td>-0.030206</td>\n",
       "      <td>0.162490</td>\n",
       "      <td>-0.093044</td>\n",
       "      <td>-0.051710</td>\n",
       "    </tr>\n",
       "    <tr>\n",
       "      <th>duration</th>\n",
       "      <td>-0.004648</td>\n",
       "      <td>0.021560</td>\n",
       "      <td>-0.030206</td>\n",
       "      <td>1.000000</td>\n",
       "      <td>-0.084570</td>\n",
       "      <td>-0.001565</td>\n",
       "      <td>0.001203</td>\n",
       "    </tr>\n",
       "    <tr>\n",
       "      <th>campaign</th>\n",
       "      <td>0.004760</td>\n",
       "      <td>-0.014578</td>\n",
       "      <td>0.162490</td>\n",
       "      <td>-0.084570</td>\n",
       "      <td>1.000000</td>\n",
       "      <td>-0.088628</td>\n",
       "      <td>-0.032855</td>\n",
       "    </tr>\n",
       "    <tr>\n",
       "      <th>pdays</th>\n",
       "      <td>-0.023758</td>\n",
       "      <td>0.003435</td>\n",
       "      <td>-0.093044</td>\n",
       "      <td>-0.001565</td>\n",
       "      <td>-0.088628</td>\n",
       "      <td>1.000000</td>\n",
       "      <td>0.454820</td>\n",
       "    </tr>\n",
       "    <tr>\n",
       "      <th>previous</th>\n",
       "      <td>0.001288</td>\n",
       "      <td>0.016674</td>\n",
       "      <td>-0.051710</td>\n",
       "      <td>0.001203</td>\n",
       "      <td>-0.032855</td>\n",
       "      <td>0.454820</td>\n",
       "      <td>1.000000</td>\n",
       "    </tr>\n",
       "  </tbody>\n",
       "</table>\n",
       "</div>"
      ],
      "text/plain": [
       "               age   balance       day  duration  campaign     pdays  previous\n",
       "age       1.000000  0.097783 -0.009120 -0.004648  0.004760 -0.023758  0.001288\n",
       "balance   0.097783  1.000000  0.004503  0.021560 -0.014578  0.003435  0.016674\n",
       "day      -0.009120  0.004503  1.000000 -0.030206  0.162490 -0.093044 -0.051710\n",
       "duration -0.004648  0.021560 -0.030206  1.000000 -0.084570 -0.001565  0.001203\n",
       "campaign  0.004760 -0.014578  0.162490 -0.084570  1.000000 -0.088628 -0.032855\n",
       "pdays    -0.023758  0.003435 -0.093044 -0.001565 -0.088628  1.000000  0.454820\n",
       "previous  0.001288  0.016674 -0.051710  0.001203 -0.032855  0.454820  1.000000"
      ]
     },
     "execution_count": 13,
     "metadata": {},
     "output_type": "execute_result"
    }
   ],
   "source": [
    "correlation_matrix = df[numerical_features].corr()\n",
    "correlation_matrix"
   ]
  },
  {
   "cell_type": "code",
   "execution_count": 57,
   "id": "b911215a-5414-4d4d-8046-1adc9a804a78",
   "metadata": {},
   "outputs": [
    {
     "data": {
      "text/plain": [
       "-0.09304407377294048"
      ]
     },
     "execution_count": 57,
     "metadata": {},
     "output_type": "execute_result"
    }
   ],
   "source": [
    "min_corr_value = correlation_matrix.min().min()\n",
    "min_corr_value"
   ]
  },
  {
   "cell_type": "code",
   "execution_count": 59,
   "id": "ae67b249-b7b4-477c-a92a-e31e8480f122",
   "metadata": {},
   "outputs": [
    {
     "data": {
      "text/plain": [
       "(array([2, 5], dtype=int64), array([5, 2], dtype=int64))"
      ]
     },
     "execution_count": 59,
     "metadata": {},
     "output_type": "execute_result"
    }
   ],
   "source": [
    "min_corr_location = np.where(correlation_matrix == min_corr_value)\n",
    "min_corr_location"
   ]
  },
  {
   "cell_type": "markdown",
   "id": "70de7d6b-516b-41cd-bf3a-22e2ec4e62c0",
   "metadata": {},
   "source": [
    "## Target encoding"
   ]
  },
  {
   "cell_type": "code",
   "execution_count": 14,
   "id": "690485fe-d789-47ad-8d5c-83c9fe3727cd",
   "metadata": {},
   "outputs": [
    {
     "data": {
      "text/plain": [
       "y\n",
       "no     39922\n",
       "yes     5289\n",
       "Name: count, dtype: int64"
      ]
     },
     "execution_count": 14,
     "metadata": {},
     "output_type": "execute_result"
    }
   ],
   "source": [
    "df.y.value_counts()"
   ]
  },
  {
   "cell_type": "code",
   "execution_count": 15,
   "id": "53a332c9-9d43-45ce-918f-7a33f02ab566",
   "metadata": {},
   "outputs": [
    {
     "data": {
      "text/plain": [
       "39009    yes\n",
       "39010    yes\n",
       "39011     no\n",
       "39012     no\n",
       "39013     no\n",
       "39014     no\n",
       "39015     no\n",
       "39016     no\n",
       "39017    yes\n",
       "Name: y, dtype: object"
      ]
     },
     "execution_count": 15,
     "metadata": {},
     "output_type": "execute_result"
    }
   ],
   "source": [
    "df.y[39009:39018]"
   ]
  },
  {
   "cell_type": "code",
   "execution_count": 16,
   "id": "db356468-260d-444d-bbb4-1e3d62a71a96",
   "metadata": {},
   "outputs": [],
   "source": [
    "df.y = (df.y== 'yes').astype(int)"
   ]
  },
  {
   "cell_type": "code",
   "execution_count": 17,
   "id": "a9fe77eb-5af8-4a42-a6d5-9d84b94d425d",
   "metadata": {},
   "outputs": [
    {
     "data": {
      "text/plain": [
       "39009    1\n",
       "39010    1\n",
       "39011    0\n",
       "39012    0\n",
       "39013    0\n",
       "39014    0\n",
       "39015    0\n",
       "39016    0\n",
       "39017    1\n",
       "Name: y, dtype: int32"
      ]
     },
     "execution_count": 17,
     "metadata": {},
     "output_type": "execute_result"
    }
   ],
   "source": [
    "df.y[39009:39018]"
   ]
  },
  {
   "cell_type": "markdown",
   "id": "15847184-b205-4db8-84e3-dabca5fbaf7e",
   "metadata": {},
   "source": [
    "## Split data"
   ]
  },
  {
   "cell_type": "code",
   "execution_count": 18,
   "id": "3ea8a87e-e076-49ab-b4c0-01f0afa8fdf0",
   "metadata": {},
   "outputs": [],
   "source": [
    "from sklearn.model_selection import train_test_split"
   ]
  },
  {
   "cell_type": "code",
   "execution_count": 19,
   "id": "45be548a-524d-4b37-aad1-9303244ae9d0",
   "metadata": {},
   "outputs": [],
   "source": [
    "df_full_train, df_test = train_test_split(df, test_size=0.2, random_state=42)\n",
    "df_train, df_val = train_test_split(df_full_train, test_size=0.25, random_state=42)"
   ]
  },
  {
   "cell_type": "code",
   "execution_count": 20,
   "id": "7d34b9f0-1279-443a-a6a8-7d06bc23008e",
   "metadata": {},
   "outputs": [
    {
     "data": {
      "text/plain": [
       "(27126, 9042, 9043, True)"
      ]
     },
     "execution_count": 20,
     "metadata": {},
     "output_type": "execute_result"
    }
   ],
   "source": [
    "len(df_train), len(df_val), len(df_test), len(df_val)+ len(df_test)+len(df_train) == len(df)"
   ]
  },
  {
   "cell_type": "code",
   "execution_count": 60,
   "id": "d3f525b0-f7a4-4ac9-b45f-2c23847b585c",
   "metadata": {},
   "outputs": [],
   "source": [
    "y_train = df_train.y.values\n",
    "y_full_train = df_full_train.y.values\n",
    "y_val = df_val.y.values\n",
    "y_test = df_test.y.values\n"
   ]
  },
  {
   "cell_type": "code",
   "execution_count": 22,
   "id": "15d486ab-25bc-4c17-8727-17219df9f1d3",
   "metadata": {},
   "outputs": [
    {
     "data": {
      "text/plain": [
       "age           int64\n",
       "job          object\n",
       "marital      object\n",
       "education    object\n",
       "balance       int64\n",
       "housing      object\n",
       "contact      object\n",
       "day           int64\n",
       "month        object\n",
       "duration      int64\n",
       "campaign      int64\n",
       "pdays         int64\n",
       "previous      int64\n",
       "poutcome     object\n",
       "y             int32\n",
       "dtype: object"
      ]
     },
     "execution_count": 22,
     "metadata": {},
     "output_type": "execute_result"
    }
   ],
   "source": [
    "df_full_train.dtypes"
   ]
  },
  {
   "cell_type": "markdown",
   "id": "8e3fabe7-9db2-4059-bbf0-02e4b833e612",
   "metadata": {},
   "source": [
    "## MI score"
   ]
  },
  {
   "cell_type": "code",
   "execution_count": 23,
   "id": "e41e6a2e-808e-4354-ba67-973e20b9af45",
   "metadata": {},
   "outputs": [],
   "source": [
    "from sklearn.metrics import mutual_info_score"
   ]
  },
  {
   "cell_type": "code",
   "execution_count": 24,
   "id": "47c22f6d-5692-4292-9e0c-553ca17d1ace",
   "metadata": {},
   "outputs": [],
   "source": [
    "def mutual_information_score_series(series):\n",
    "    return mutual_info_score(series, df_full_train.y)"
   ]
  },
  {
   "cell_type": "code",
   "execution_count": 25,
   "id": "f2f16bb3-1278-49f0-8735-251ca134c030",
   "metadata": {},
   "outputs": [
    {
     "data": {
      "text/plain": [
       "poutcome     0.03\n",
       "month        0.02\n",
       "contact      0.01\n",
       "housing      0.01\n",
       "job          0.01\n",
       "education    0.00\n",
       "marital      0.00\n",
       "dtype: float64"
      ]
     },
     "execution_count": 25,
     "metadata": {},
     "output_type": "execute_result"
    }
   ],
   "source": [
    "mi = df_full_train[categorical_features].apply(mutual_information_score_series)\n",
    "mi.sort_values(ascending=False).round(2)"
   ]
  },
  {
   "cell_type": "markdown",
   "id": "4ef6c572-b20a-45eb-89e7-3b8390a03c1f",
   "metadata": {},
   "source": [
    "## One-hot encoding"
   ]
  },
  {
   "cell_type": "code",
   "execution_count": 26,
   "id": "d5cb36c1-64ab-4784-945e-08c740ddd9b6",
   "metadata": {},
   "outputs": [],
   "source": [
    "from sklearn.feature_extraction import DictVectorizer"
   ]
  },
  {
   "cell_type": "code",
   "execution_count": 27,
   "id": "3b9b84c7-0a1f-419a-be94-904a525e8dd5",
   "metadata": {},
   "outputs": [
    {
     "data": {
      "text/plain": [
       "{'age': 32,\n",
       " 'balance': 1100,\n",
       " 'day': 11,\n",
       " 'duration': 67,\n",
       " 'campaign': 1,\n",
       " 'pdays': -1,\n",
       " 'previous': 0,\n",
       " 'job': 'technician',\n",
       " 'marital': 'single',\n",
       " 'education': 'tertiary',\n",
       " 'housing': 'yes',\n",
       " 'contact': 'cellular',\n",
       " 'month': 'aug',\n",
       " 'poutcome': 'unknown'}"
      ]
     },
     "execution_count": 27,
     "metadata": {},
     "output_type": "execute_result"
    }
   ],
   "source": [
    "\n",
    "dv = DictVectorizer(sparse=False)\n",
    "train_dict = df_train[numerical_features + categorical_features].to_dict(orient= 'records')\n",
    "train_dict[0]"
   ]
  },
  {
   "cell_type": "code",
   "execution_count": 28,
   "id": "6d482b17-1488-41d0-9fc6-0ea93f1b11d9",
   "metadata": {},
   "outputs": [],
   "source": [
    "X_train = dv.fit_transform(train_dict)"
   ]
  },
  {
   "cell_type": "code",
   "execution_count": 29,
   "id": "0e172ff7-e30a-4273-a10f-9c5cdb4a4246",
   "metadata": {},
   "outputs": [],
   "source": [
    "val_dict = df_val[categorical_features + numerical_features].to_dict(orient='records')\n",
    "X_val = dv.transform(val_dict)"
   ]
  },
  {
   "cell_type": "code",
   "execution_count": 30,
   "id": "8abcb28f-f455-403c-ace6-2ccd5b596735",
   "metadata": {},
   "outputs": [
    {
     "name": "stdout",
     "output_type": "stream",
     "text": [
      "(27126, 47)\n",
      "(9042, 47)\n"
     ]
    }
   ],
   "source": [
    "print(X_train.shape)\n",
    "print(X_val.shape)"
   ]
  },
  {
   "cell_type": "markdown",
   "id": "d4d06b8d-c44f-4eb6-90aa-0b3d6a415826",
   "metadata": {},
   "source": [
    "## Logistic Regression"
   ]
  },
  {
   "cell_type": "code",
   "execution_count": 39,
   "id": "c446ad4f-d538-497a-ac76-6f61e3c8a6aa",
   "metadata": {},
   "outputs": [],
   "source": [
    "from sklearn.metrics import roc_auc_score, roc_curve"
   ]
  },
  {
   "cell_type": "code",
   "execution_count": 31,
   "id": "a148a099-7d52-4182-8022-cd289f5a9923",
   "metadata": {},
   "outputs": [
    {
     "data": {
      "text/html": [
       "<style>#sk-container-id-1 {\n",
       "  /* Definition of color scheme common for light and dark mode */\n",
       "  --sklearn-color-text: black;\n",
       "  --sklearn-color-line: gray;\n",
       "  /* Definition of color scheme for unfitted estimators */\n",
       "  --sklearn-color-unfitted-level-0: #fff5e6;\n",
       "  --sklearn-color-unfitted-level-1: #f6e4d2;\n",
       "  --sklearn-color-unfitted-level-2: #ffe0b3;\n",
       "  --sklearn-color-unfitted-level-3: chocolate;\n",
       "  /* Definition of color scheme for fitted estimators */\n",
       "  --sklearn-color-fitted-level-0: #f0f8ff;\n",
       "  --sklearn-color-fitted-level-1: #d4ebff;\n",
       "  --sklearn-color-fitted-level-2: #b3dbfd;\n",
       "  --sklearn-color-fitted-level-3: cornflowerblue;\n",
       "\n",
       "  /* Specific color for light theme */\n",
       "  --sklearn-color-text-on-default-background: var(--sg-text-color, var(--theme-code-foreground, var(--jp-content-font-color1, black)));\n",
       "  --sklearn-color-background: var(--sg-background-color, var(--theme-background, var(--jp-layout-color0, white)));\n",
       "  --sklearn-color-border-box: var(--sg-text-color, var(--theme-code-foreground, var(--jp-content-font-color1, black)));\n",
       "  --sklearn-color-icon: #696969;\n",
       "\n",
       "  @media (prefers-color-scheme: dark) {\n",
       "    /* Redefinition of color scheme for dark theme */\n",
       "    --sklearn-color-text-on-default-background: var(--sg-text-color, var(--theme-code-foreground, var(--jp-content-font-color1, white)));\n",
       "    --sklearn-color-background: var(--sg-background-color, var(--theme-background, var(--jp-layout-color0, #111)));\n",
       "    --sklearn-color-border-box: var(--sg-text-color, var(--theme-code-foreground, var(--jp-content-font-color1, white)));\n",
       "    --sklearn-color-icon: #878787;\n",
       "  }\n",
       "}\n",
       "\n",
       "#sk-container-id-1 {\n",
       "  color: var(--sklearn-color-text);\n",
       "}\n",
       "\n",
       "#sk-container-id-1 pre {\n",
       "  padding: 0;\n",
       "}\n",
       "\n",
       "#sk-container-id-1 input.sk-hidden--visually {\n",
       "  border: 0;\n",
       "  clip: rect(1px 1px 1px 1px);\n",
       "  clip: rect(1px, 1px, 1px, 1px);\n",
       "  height: 1px;\n",
       "  margin: -1px;\n",
       "  overflow: hidden;\n",
       "  padding: 0;\n",
       "  position: absolute;\n",
       "  width: 1px;\n",
       "}\n",
       "\n",
       "#sk-container-id-1 div.sk-dashed-wrapped {\n",
       "  border: 1px dashed var(--sklearn-color-line);\n",
       "  margin: 0 0.4em 0.5em 0.4em;\n",
       "  box-sizing: border-box;\n",
       "  padding-bottom: 0.4em;\n",
       "  background-color: var(--sklearn-color-background);\n",
       "}\n",
       "\n",
       "#sk-container-id-1 div.sk-container {\n",
       "  /* jupyter's `normalize.less` sets `[hidden] { display: none; }`\n",
       "     but bootstrap.min.css set `[hidden] { display: none !important; }`\n",
       "     so we also need the `!important` here to be able to override the\n",
       "     default hidden behavior on the sphinx rendered scikit-learn.org.\n",
       "     See: https://github.com/scikit-learn/scikit-learn/issues/21755 */\n",
       "  display: inline-block !important;\n",
       "  position: relative;\n",
       "}\n",
       "\n",
       "#sk-container-id-1 div.sk-text-repr-fallback {\n",
       "  display: none;\n",
       "}\n",
       "\n",
       "div.sk-parallel-item,\n",
       "div.sk-serial,\n",
       "div.sk-item {\n",
       "  /* draw centered vertical line to link estimators */\n",
       "  background-image: linear-gradient(var(--sklearn-color-text-on-default-background), var(--sklearn-color-text-on-default-background));\n",
       "  background-size: 2px 100%;\n",
       "  background-repeat: no-repeat;\n",
       "  background-position: center center;\n",
       "}\n",
       "\n",
       "/* Parallel-specific style estimator block */\n",
       "\n",
       "#sk-container-id-1 div.sk-parallel-item::after {\n",
       "  content: \"\";\n",
       "  width: 100%;\n",
       "  border-bottom: 2px solid var(--sklearn-color-text-on-default-background);\n",
       "  flex-grow: 1;\n",
       "}\n",
       "\n",
       "#sk-container-id-1 div.sk-parallel {\n",
       "  display: flex;\n",
       "  align-items: stretch;\n",
       "  justify-content: center;\n",
       "  background-color: var(--sklearn-color-background);\n",
       "  position: relative;\n",
       "}\n",
       "\n",
       "#sk-container-id-1 div.sk-parallel-item {\n",
       "  display: flex;\n",
       "  flex-direction: column;\n",
       "}\n",
       "\n",
       "#sk-container-id-1 div.sk-parallel-item:first-child::after {\n",
       "  align-self: flex-end;\n",
       "  width: 50%;\n",
       "}\n",
       "\n",
       "#sk-container-id-1 div.sk-parallel-item:last-child::after {\n",
       "  align-self: flex-start;\n",
       "  width: 50%;\n",
       "}\n",
       "\n",
       "#sk-container-id-1 div.sk-parallel-item:only-child::after {\n",
       "  width: 0;\n",
       "}\n",
       "\n",
       "/* Serial-specific style estimator block */\n",
       "\n",
       "#sk-container-id-1 div.sk-serial {\n",
       "  display: flex;\n",
       "  flex-direction: column;\n",
       "  align-items: center;\n",
       "  background-color: var(--sklearn-color-background);\n",
       "  padding-right: 1em;\n",
       "  padding-left: 1em;\n",
       "}\n",
       "\n",
       "\n",
       "/* Toggleable style: style used for estimator/Pipeline/ColumnTransformer box that is\n",
       "clickable and can be expanded/collapsed.\n",
       "- Pipeline and ColumnTransformer use this feature and define the default style\n",
       "- Estimators will overwrite some part of the style using the `sk-estimator` class\n",
       "*/\n",
       "\n",
       "/* Pipeline and ColumnTransformer style (default) */\n",
       "\n",
       "#sk-container-id-1 div.sk-toggleable {\n",
       "  /* Default theme specific background. It is overwritten whether we have a\n",
       "  specific estimator or a Pipeline/ColumnTransformer */\n",
       "  background-color: var(--sklearn-color-background);\n",
       "}\n",
       "\n",
       "/* Toggleable label */\n",
       "#sk-container-id-1 label.sk-toggleable__label {\n",
       "  cursor: pointer;\n",
       "  display: block;\n",
       "  width: 100%;\n",
       "  margin-bottom: 0;\n",
       "  padding: 0.5em;\n",
       "  box-sizing: border-box;\n",
       "  text-align: center;\n",
       "}\n",
       "\n",
       "#sk-container-id-1 label.sk-toggleable__label-arrow:before {\n",
       "  /* Arrow on the left of the label */\n",
       "  content: \"▸\";\n",
       "  float: left;\n",
       "  margin-right: 0.25em;\n",
       "  color: var(--sklearn-color-icon);\n",
       "}\n",
       "\n",
       "#sk-container-id-1 label.sk-toggleable__label-arrow:hover:before {\n",
       "  color: var(--sklearn-color-text);\n",
       "}\n",
       "\n",
       "/* Toggleable content - dropdown */\n",
       "\n",
       "#sk-container-id-1 div.sk-toggleable__content {\n",
       "  max-height: 0;\n",
       "  max-width: 0;\n",
       "  overflow: hidden;\n",
       "  text-align: left;\n",
       "  /* unfitted */\n",
       "  background-color: var(--sklearn-color-unfitted-level-0);\n",
       "}\n",
       "\n",
       "#sk-container-id-1 div.sk-toggleable__content.fitted {\n",
       "  /* fitted */\n",
       "  background-color: var(--sklearn-color-fitted-level-0);\n",
       "}\n",
       "\n",
       "#sk-container-id-1 div.sk-toggleable__content pre {\n",
       "  margin: 0.2em;\n",
       "  border-radius: 0.25em;\n",
       "  color: var(--sklearn-color-text);\n",
       "  /* unfitted */\n",
       "  background-color: var(--sklearn-color-unfitted-level-0);\n",
       "}\n",
       "\n",
       "#sk-container-id-1 div.sk-toggleable__content.fitted pre {\n",
       "  /* unfitted */\n",
       "  background-color: var(--sklearn-color-fitted-level-0);\n",
       "}\n",
       "\n",
       "#sk-container-id-1 input.sk-toggleable__control:checked~div.sk-toggleable__content {\n",
       "  /* Expand drop-down */\n",
       "  max-height: 200px;\n",
       "  max-width: 100%;\n",
       "  overflow: auto;\n",
       "}\n",
       "\n",
       "#sk-container-id-1 input.sk-toggleable__control:checked~label.sk-toggleable__label-arrow:before {\n",
       "  content: \"▾\";\n",
       "}\n",
       "\n",
       "/* Pipeline/ColumnTransformer-specific style */\n",
       "\n",
       "#sk-container-id-1 div.sk-label input.sk-toggleable__control:checked~label.sk-toggleable__label {\n",
       "  color: var(--sklearn-color-text);\n",
       "  background-color: var(--sklearn-color-unfitted-level-2);\n",
       "}\n",
       "\n",
       "#sk-container-id-1 div.sk-label.fitted input.sk-toggleable__control:checked~label.sk-toggleable__label {\n",
       "  background-color: var(--sklearn-color-fitted-level-2);\n",
       "}\n",
       "\n",
       "/* Estimator-specific style */\n",
       "\n",
       "/* Colorize estimator box */\n",
       "#sk-container-id-1 div.sk-estimator input.sk-toggleable__control:checked~label.sk-toggleable__label {\n",
       "  /* unfitted */\n",
       "  background-color: var(--sklearn-color-unfitted-level-2);\n",
       "}\n",
       "\n",
       "#sk-container-id-1 div.sk-estimator.fitted input.sk-toggleable__control:checked~label.sk-toggleable__label {\n",
       "  /* fitted */\n",
       "  background-color: var(--sklearn-color-fitted-level-2);\n",
       "}\n",
       "\n",
       "#sk-container-id-1 div.sk-label label.sk-toggleable__label,\n",
       "#sk-container-id-1 div.sk-label label {\n",
       "  /* The background is the default theme color */\n",
       "  color: var(--sklearn-color-text-on-default-background);\n",
       "}\n",
       "\n",
       "/* On hover, darken the color of the background */\n",
       "#sk-container-id-1 div.sk-label:hover label.sk-toggleable__label {\n",
       "  color: var(--sklearn-color-text);\n",
       "  background-color: var(--sklearn-color-unfitted-level-2);\n",
       "}\n",
       "\n",
       "/* Label box, darken color on hover, fitted */\n",
       "#sk-container-id-1 div.sk-label.fitted:hover label.sk-toggleable__label.fitted {\n",
       "  color: var(--sklearn-color-text);\n",
       "  background-color: var(--sklearn-color-fitted-level-2);\n",
       "}\n",
       "\n",
       "/* Estimator label */\n",
       "\n",
       "#sk-container-id-1 div.sk-label label {\n",
       "  font-family: monospace;\n",
       "  font-weight: bold;\n",
       "  display: inline-block;\n",
       "  line-height: 1.2em;\n",
       "}\n",
       "\n",
       "#sk-container-id-1 div.sk-label-container {\n",
       "  text-align: center;\n",
       "}\n",
       "\n",
       "/* Estimator-specific */\n",
       "#sk-container-id-1 div.sk-estimator {\n",
       "  font-family: monospace;\n",
       "  border: 1px dotted var(--sklearn-color-border-box);\n",
       "  border-radius: 0.25em;\n",
       "  box-sizing: border-box;\n",
       "  margin-bottom: 0.5em;\n",
       "  /* unfitted */\n",
       "  background-color: var(--sklearn-color-unfitted-level-0);\n",
       "}\n",
       "\n",
       "#sk-container-id-1 div.sk-estimator.fitted {\n",
       "  /* fitted */\n",
       "  background-color: var(--sklearn-color-fitted-level-0);\n",
       "}\n",
       "\n",
       "/* on hover */\n",
       "#sk-container-id-1 div.sk-estimator:hover {\n",
       "  /* unfitted */\n",
       "  background-color: var(--sklearn-color-unfitted-level-2);\n",
       "}\n",
       "\n",
       "#sk-container-id-1 div.sk-estimator.fitted:hover {\n",
       "  /* fitted */\n",
       "  background-color: var(--sklearn-color-fitted-level-2);\n",
       "}\n",
       "\n",
       "/* Specification for estimator info (e.g. \"i\" and \"?\") */\n",
       "\n",
       "/* Common style for \"i\" and \"?\" */\n",
       "\n",
       ".sk-estimator-doc-link,\n",
       "a:link.sk-estimator-doc-link,\n",
       "a:visited.sk-estimator-doc-link {\n",
       "  float: right;\n",
       "  font-size: smaller;\n",
       "  line-height: 1em;\n",
       "  font-family: monospace;\n",
       "  background-color: var(--sklearn-color-background);\n",
       "  border-radius: 1em;\n",
       "  height: 1em;\n",
       "  width: 1em;\n",
       "  text-decoration: none !important;\n",
       "  margin-left: 1ex;\n",
       "  /* unfitted */\n",
       "  border: var(--sklearn-color-unfitted-level-1) 1pt solid;\n",
       "  color: var(--sklearn-color-unfitted-level-1);\n",
       "}\n",
       "\n",
       ".sk-estimator-doc-link.fitted,\n",
       "a:link.sk-estimator-doc-link.fitted,\n",
       "a:visited.sk-estimator-doc-link.fitted {\n",
       "  /* fitted */\n",
       "  border: var(--sklearn-color-fitted-level-1) 1pt solid;\n",
       "  color: var(--sklearn-color-fitted-level-1);\n",
       "}\n",
       "\n",
       "/* On hover */\n",
       "div.sk-estimator:hover .sk-estimator-doc-link:hover,\n",
       ".sk-estimator-doc-link:hover,\n",
       "div.sk-label-container:hover .sk-estimator-doc-link:hover,\n",
       ".sk-estimator-doc-link:hover {\n",
       "  /* unfitted */\n",
       "  background-color: var(--sklearn-color-unfitted-level-3);\n",
       "  color: var(--sklearn-color-background);\n",
       "  text-decoration: none;\n",
       "}\n",
       "\n",
       "div.sk-estimator.fitted:hover .sk-estimator-doc-link.fitted:hover,\n",
       ".sk-estimator-doc-link.fitted:hover,\n",
       "div.sk-label-container:hover .sk-estimator-doc-link.fitted:hover,\n",
       ".sk-estimator-doc-link.fitted:hover {\n",
       "  /* fitted */\n",
       "  background-color: var(--sklearn-color-fitted-level-3);\n",
       "  color: var(--sklearn-color-background);\n",
       "  text-decoration: none;\n",
       "}\n",
       "\n",
       "/* Span, style for the box shown on hovering the info icon */\n",
       ".sk-estimator-doc-link span {\n",
       "  display: none;\n",
       "  z-index: 9999;\n",
       "  position: relative;\n",
       "  font-weight: normal;\n",
       "  right: .2ex;\n",
       "  padding: .5ex;\n",
       "  margin: .5ex;\n",
       "  width: min-content;\n",
       "  min-width: 20ex;\n",
       "  max-width: 50ex;\n",
       "  color: var(--sklearn-color-text);\n",
       "  box-shadow: 2pt 2pt 4pt #999;\n",
       "  /* unfitted */\n",
       "  background: var(--sklearn-color-unfitted-level-0);\n",
       "  border: .5pt solid var(--sklearn-color-unfitted-level-3);\n",
       "}\n",
       "\n",
       ".sk-estimator-doc-link.fitted span {\n",
       "  /* fitted */\n",
       "  background: var(--sklearn-color-fitted-level-0);\n",
       "  border: var(--sklearn-color-fitted-level-3);\n",
       "}\n",
       "\n",
       ".sk-estimator-doc-link:hover span {\n",
       "  display: block;\n",
       "}\n",
       "\n",
       "/* \"?\"-specific style due to the `<a>` HTML tag */\n",
       "\n",
       "#sk-container-id-1 a.estimator_doc_link {\n",
       "  float: right;\n",
       "  font-size: 1rem;\n",
       "  line-height: 1em;\n",
       "  font-family: monospace;\n",
       "  background-color: var(--sklearn-color-background);\n",
       "  border-radius: 1rem;\n",
       "  height: 1rem;\n",
       "  width: 1rem;\n",
       "  text-decoration: none;\n",
       "  /* unfitted */\n",
       "  color: var(--sklearn-color-unfitted-level-1);\n",
       "  border: var(--sklearn-color-unfitted-level-1) 1pt solid;\n",
       "}\n",
       "\n",
       "#sk-container-id-1 a.estimator_doc_link.fitted {\n",
       "  /* fitted */\n",
       "  border: var(--sklearn-color-fitted-level-1) 1pt solid;\n",
       "  color: var(--sklearn-color-fitted-level-1);\n",
       "}\n",
       "\n",
       "/* On hover */\n",
       "#sk-container-id-1 a.estimator_doc_link:hover {\n",
       "  /* unfitted */\n",
       "  background-color: var(--sklearn-color-unfitted-level-3);\n",
       "  color: var(--sklearn-color-background);\n",
       "  text-decoration: none;\n",
       "}\n",
       "\n",
       "#sk-container-id-1 a.estimator_doc_link.fitted:hover {\n",
       "  /* fitted */\n",
       "  background-color: var(--sklearn-color-fitted-level-3);\n",
       "}\n",
       "</style><div id=\"sk-container-id-1\" class=\"sk-top-container\"><div class=\"sk-text-repr-fallback\"><pre>LogisticRegression(max_iter=1000, solver=&#x27;liblinear&#x27;)</pre><b>In a Jupyter environment, please rerun this cell to show the HTML representation or trust the notebook. <br />On GitHub, the HTML representation is unable to render, please try loading this page with nbviewer.org.</b></div><div class=\"sk-container\" hidden><div class=\"sk-item\"><div class=\"sk-estimator fitted sk-toggleable\"><input class=\"sk-toggleable__control sk-hidden--visually\" id=\"sk-estimator-id-1\" type=\"checkbox\" checked><label for=\"sk-estimator-id-1\" class=\"sk-toggleable__label fitted sk-toggleable__label-arrow fitted\">&nbsp;&nbsp;LogisticRegression<a class=\"sk-estimator-doc-link fitted\" rel=\"noreferrer\" target=\"_blank\" href=\"https://scikit-learn.org/1.5/modules/generated/sklearn.linear_model.LogisticRegression.html\">?<span>Documentation for LogisticRegression</span></a><span class=\"sk-estimator-doc-link fitted\">i<span>Fitted</span></span></label><div class=\"sk-toggleable__content fitted\"><pre>LogisticRegression(max_iter=1000, solver=&#x27;liblinear&#x27;)</pre></div> </div></div></div></div>"
      ],
      "text/plain": [
       "LogisticRegression(max_iter=1000, solver='liblinear')"
      ]
     },
     "execution_count": 31,
     "metadata": {},
     "output_type": "execute_result"
    }
   ],
   "source": [
    "from sklearn.linear_model import LogisticRegression\n",
    "model = LogisticRegression(solver='liblinear', C=1.0, max_iter=1000)\n",
    "model.fit(X_train, y_train)"
   ]
  },
  {
   "cell_type": "code",
   "execution_count": 32,
   "id": "fb8bac73-e1e4-4665-8c54-deb35c42d1ab",
   "metadata": {},
   "outputs": [
    {
     "data": {
      "text/plain": [
       "(9042,)"
      ]
     },
     "execution_count": 32,
     "metadata": {},
     "output_type": "execute_result"
    }
   ],
   "source": [
    "y_pred = model.predict_proba(X_val)[:,1]\n",
    "y_pred.shape"
   ]
  },
  {
   "cell_type": "code",
   "execution_count": 33,
   "id": "0512b761-713f-4f0a-a162-d93fd3c77f16",
   "metadata": {},
   "outputs": [
    {
     "data": {
      "text/plain": [
       "(9042, 47)"
      ]
     },
     "execution_count": 33,
     "metadata": {},
     "output_type": "execute_result"
    }
   ],
   "source": [
    "X_val.shape"
   ]
  },
  {
   "cell_type": "code",
   "execution_count": 34,
   "id": "69a17d66-ee59-4e92-ad74-889f47cd8282",
   "metadata": {},
   "outputs": [
    {
     "data": {
      "text/plain": [
       "(9042,)"
      ]
     },
     "execution_count": 34,
     "metadata": {},
     "output_type": "execute_result"
    }
   ],
   "source": [
    "y_val.shape"
   ]
  },
  {
   "cell_type": "code",
   "execution_count": 35,
   "id": "5ce3a3f5-6f8b-474b-9a74-8912bc40c2fd",
   "metadata": {},
   "outputs": [
    {
     "data": {
      "text/plain": [
       "(9042,)"
      ]
     },
     "execution_count": 35,
     "metadata": {},
     "output_type": "execute_result"
    }
   ],
   "source": [
    "y_decision = (y_pred >= 0.5)\n",
    "y_decision.shape\n"
   ]
  },
  {
   "cell_type": "code",
   "execution_count": 36,
   "id": "2dd1ab66-16dd-429e-8e7a-35f3b3d10643",
   "metadata": {},
   "outputs": [
    {
     "data": {
      "text/plain": [
       "0.901"
      ]
     },
     "execution_count": 36,
     "metadata": {},
     "output_type": "execute_result"
    }
   ],
   "source": [
    "base_model_accuracy = ( y_val == y_decision).mean()\n",
    "base_model_accuracy.round(4)"
   ]
  },
  {
   "cell_type": "code",
   "execution_count": 37,
   "id": "09f06cbe-bebf-4cef-8f30-c7508880227a",
   "metadata": {},
   "outputs": [
    {
     "data": {
      "text/plain": [
       "((9042,), (9042,))"
      ]
     },
     "execution_count": 37,
     "metadata": {},
     "output_type": "execute_result"
    }
   ],
   "source": [
    "y_val.shape, y_pred.shape"
   ]
  },
  {
   "cell_type": "code",
   "execution_count": 40,
   "id": "b8d45198-2a77-41a5-8cf6-a3e81051e756",
   "metadata": {},
   "outputs": [
    {
     "data": {
      "text/plain": [
       "0.911"
      ]
     },
     "execution_count": 40,
     "metadata": {},
     "output_type": "execute_result"
    }
   ],
   "source": [
    "auc = roc_auc_score(y_val, y_pred)\n",
    "auc.round(3)"
   ]
  },
  {
   "cell_type": "markdown",
   "id": "b3ff8910-238a-4c56-a533-de3584a3e9e8",
   "metadata": {},
   "source": [
    "## Feature elimination technique : finding the least useful feature"
   ]
  },
  {
   "cell_type": "code",
   "execution_count": 41,
   "id": "2b43a5f0-c88a-446f-9763-641147fcdc58",
   "metadata": {},
   "outputs": [
    {
     "name": "stdout",
     "output_type": "stream",
     "text": [
      "Accuracy without age: 0.9010174740101747, Difference: 0.0\n",
      "Accuracy without balance: 0.9006856890068569, Difference: 0.00033178500331787486\n",
      "Accuracy without campaign: 0.9006856890068569, Difference: 0.00033178500331787486\n",
      "Accuracy without contact: 0.9000221190002212, Difference: 0.0009953550099535136\n",
      "Accuracy without day: 0.9013492590134926, Difference: -0.00033178500331787486\n",
      "Accuracy without duration: 0.8900685689006856, Difference: 0.010948905109489093\n",
      "Accuracy without education: 0.9009068790090687, Difference: 0.0001105950011059953\n",
      "Accuracy without housing: 0.9012386640123866, Difference: -0.00022119000221187957\n",
      "Accuracy without job: 0.9011280690112807, Difference: -0.0001105950011059953\n",
      "Accuracy without marital: 0.9011280690112807, Difference: -0.0001105950011059953\n",
      "Accuracy without month: 0.8999115239991152, Difference: 0.0011059500110595089\n",
      "Accuracy without pdays: 0.9009068790090687, Difference: 0.0001105950011059953\n",
      "Accuracy without poutcome: 0.893607608936076, Difference: 0.007409865074098687\n",
      "Accuracy without previous: 0.9011280690112807, Difference: -0.0001105950011059953\n"
     ]
    }
   ],
   "source": [
    "accr = {}\n",
    "\n",
    "X_train_df = pd.DataFrame(X_train, columns=dv.get_feature_names_out())\n",
    "X_val_df = pd.DataFrame(X_val, columns=dv.get_feature_names_out())\n",
    "\n",
    "# Find feature groups that share a common prefix (like 'job=')\n",
    "feature_groups = {}\n",
    "for feature in X_train_df.columns:\n",
    "    prefix = feature.split('=')[0]  \n",
    "    if prefix not in feature_groups:\n",
    "        feature_groups[prefix] = []\n",
    "    feature_groups[prefix].append(feature)\n",
    "\n",
    "for feature_group in feature_groups:\n",
    "    X_train_subset = X_train_df.drop(columns = feature_groups[feature_group])\n",
    "    X_val_subset = X_val_df.drop(columns = feature_groups[feature_group])\n",
    "\n",
    "    model.fit(X_train_subset, y_train)\n",
    "    y_pred_subset = model.predict_proba(X_val_subset)\n",
    "    y_decision_i = (y_pred_subset[:,1] >= 0.5)\n",
    "\n",
    "    accuracy_i = ( y_val == y_decision_i).mean()\n",
    "\n",
    "    accuracy_diff = (base_model_accuracy - accuracy_i)\n",
    "    accr[feature_group] = accuracy_diff\n",
    "    print(f\"Accuracy without {feature_group}: {accuracy_i}, Difference: {accuracy_diff}\")\n"
   ]
  },
  {
   "cell_type": "code",
   "execution_count": 42,
   "id": "aa1521ef-385b-45d1-af99-2d084d572c28",
   "metadata": {},
   "outputs": [],
   "source": [
    "# age is the least important feature"
   ]
  },
  {
   "cell_type": "markdown",
   "id": "b7378c16-59ee-44aa-abe9-630b60a83190",
   "metadata": {},
   "source": [
    "## ROC and AUC"
   ]
  },
  {
   "cell_type": "code",
   "execution_count": 49,
   "id": "a0bf5997-b560-44d7-a703-ccdff6394a4a",
   "metadata": {},
   "outputs": [
    {
     "name": "stderr",
     "output_type": "stream",
     "text": [
      "No artists with labels found to put in legend.  Note that artists whose label start with an underscore are ignored when legend() is called with no argument.\n"
     ]
    },
    {
     "name": "stdout",
     "output_type": "stream",
     "text": [
      "age 0.507\n",
      "balance 0.587\n",
      "day 0.525\n",
      "duration 0.807\n",
      "campaign 0.568\n",
      "pdays 0.594\n",
      "previous 0.603\n"
     ]
    },
    {
     "data": {
      "text/plain": [
       "[<matplotlib.lines.Line2D at 0x26eff6848d0>]"
      ]
     },
     "execution_count": 49,
     "metadata": {},
     "output_type": "execute_result"
    },
    {
     "data": {
      "image/png": "[encoded data removed]",
      "text/plain": [
       "<Figure size 600x600 with 1 Axes>"
      ]
     },
     "metadata": {},
     "output_type": "display_data"
    }
   ],
   "source": [
    "auc_scores={}\n",
    "plt.figure(figsize =(6,6))\n",
    "\n",
    "for feature in numerical_features :\n",
    "    fpr, tpr, thresholds = roc_curve(df_train.y, df_train[feature])\n",
    "    auc = roc_auc_score(df_train.y, df_train[feature])  \n",
    "    if auc<0.5:    # if the feature has a negative correlation with y\n",
    "        fpr, tpr, thresholds = roc_curve(df_train.y, -df_train[feature])\n",
    "        auc = roc_auc_score(df_train.y, -df_train[feature]) \n",
    "\n",
    "    auc_scores[feature] = auc\n",
    "    print(feature, auc.round(3))\n",
    "\n",
    "    plt.xlabel('FPR')\n",
    "    plt.ylabel('TPR')\n",
    "    plt.grid(True)\n",
    "    plt.legend()\n",
    "    plt.plot(fpr, tpr, label=f'{feature} (AUC = {auc:.3f})')\n",
    "plt.plot([0, 1], [0, 1], color='black', linestyle='--', label='Random Classifier') \n"
   ]
  },
  {
   "cell_type": "markdown",
   "id": "1c7be8e6-c510-466e-950e-e89c0be99959",
   "metadata": {},
   "source": [
    "### Precision and Recall"
   ]
  },
  {
   "cell_type": "code",
   "execution_count": 45,
   "id": "0e7c2da8-2edf-4fba-a6d3-fb1726a7b330",
   "metadata": {},
   "outputs": [
    {
     "data": {
      "text/plain": [
       "[(0.0, 0.118, 1.0, 0.212),\n",
       " (0.01, 0.132, 0.998, 0.232),\n",
       " (0.02, 0.155, 0.996, 0.268),\n",
       " (0.03, 0.182, 0.989, 0.307),\n",
       " (0.04, 0.213, 0.981, 0.351),\n",
       " (0.05, 0.246, 0.968, 0.392),\n",
       " (0.06, 0.279, 0.948, 0.432),\n",
       " (0.07, 0.312, 0.928, 0.467),\n",
       " (0.08, 0.339, 0.91, 0.494),\n",
       " (0.09, 0.361, 0.885, 0.513),\n",
       " (0.1, 0.383, 0.869, 0.532),\n",
       " (0.11, 0.402, 0.851, 0.546),\n",
       " (0.12, 0.417, 0.828, 0.554),\n",
       " (0.13, 0.435, 0.811, 0.566),\n",
       " (0.14, 0.449, 0.789, 0.572),\n",
       " (0.15, 0.46, 0.769, 0.576),\n",
       " (0.16, 0.473, 0.751, 0.581),\n",
       " (0.17, 0.487, 0.735, 0.586),\n",
       " (0.18, 0.496, 0.712, 0.585),\n",
       " (0.19, 0.506, 0.695, 0.586),\n",
       " (0.2, 0.519, 0.684, 0.59),\n",
       " (0.21, 0.526, 0.669, 0.589),\n",
       " (0.22, 0.537, 0.657, 0.591),\n",
       " (0.23, 0.541, 0.638, 0.586),\n",
       " (0.24, 0.548, 0.62, 0.582),\n",
       " (0.25, 0.555, 0.611, 0.582),\n",
       " (0.26, 0.563, 0.602, 0.582),\n",
       " (0.27, 0.566, 0.583, 0.575),\n",
       " (0.28, 0.573, 0.566, 0.57),\n",
       " (0.29, 0.579, 0.553, 0.566),\n",
       " (0.3, 0.579, 0.533, 0.555),\n",
       " (0.31, 0.587, 0.526, 0.555),\n",
       " (0.32, 0.591, 0.513, 0.549),\n",
       " (0.33, 0.594, 0.5, 0.543),\n",
       " (0.34, 0.593, 0.488, 0.535),\n",
       " (0.35000000000000003, 0.6, 0.48, 0.533),\n",
       " (0.36, 0.61, 0.473, 0.533),\n",
       " (0.37, 0.61, 0.46, 0.524),\n",
       " (0.38, 0.614, 0.447, 0.517),\n",
       " (0.39, 0.618, 0.443, 0.516),\n",
       " (0.4, 0.618, 0.433, 0.509),\n",
       " (0.41000000000000003, 0.625, 0.423, 0.505),\n",
       " (0.42, 0.634, 0.418, 0.504),\n",
       " (0.43, 0.634, 0.408, 0.497),\n",
       " (0.44, 0.637, 0.396, 0.488),\n",
       " (0.45, 0.639, 0.39, 0.484),\n",
       " (0.46, 0.641, 0.382, 0.479),\n",
       " (0.47000000000000003, 0.641, 0.371, 0.47),\n",
       " (0.48, 0.647, 0.364, 0.466),\n",
       " (0.49, 0.651, 0.355, 0.459),\n",
       " (0.5, 0.655, 0.346, 0.453),\n",
       " (0.51, 0.66, 0.337, 0.447),\n",
       " (0.52, 0.663, 0.329, 0.44),\n",
       " (0.53, 0.662, 0.32, 0.431),\n",
       " (0.54, 0.659, 0.311, 0.423),\n",
       " (0.55, 0.662, 0.302, 0.415),\n",
       " (0.56, 0.668, 0.295, 0.41),\n",
       " (0.5700000000000001, 0.67, 0.291, 0.405),\n",
       " (0.58, 0.674, 0.282, 0.398),\n",
       " (0.59, 0.688, 0.279, 0.397),\n",
       " (0.6, 0.693, 0.272, 0.391),\n",
       " (0.61, 0.697, 0.264, 0.383),\n",
       " (0.62, 0.703, 0.257, 0.376),\n",
       " (0.63, 0.702, 0.249, 0.367),\n",
       " (0.64, 0.704, 0.245, 0.363),\n",
       " (0.65, 0.702, 0.236, 0.353),\n",
       " (0.66, 0.704, 0.231, 0.348),\n",
       " (0.67, 0.703, 0.225, 0.341),\n",
       " (0.68, 0.705, 0.221, 0.337),\n",
       " (0.6900000000000001, 0.702, 0.214, 0.328),\n",
       " (0.7000000000000001, 0.699, 0.207, 0.319),\n",
       " (0.71, 0.698, 0.201, 0.312),\n",
       " (0.72, 0.693, 0.192, 0.3),\n",
       " (0.73, 0.704, 0.184, 0.292),\n",
       " (0.74, 0.702, 0.18, 0.287),\n",
       " (0.75, 0.709, 0.171, 0.276),\n",
       " (0.76, 0.715, 0.166, 0.27),\n",
       " (0.77, 0.715, 0.16, 0.261),\n",
       " (0.78, 0.712, 0.155, 0.255),\n",
       " (0.79, 0.707, 0.147, 0.243),\n",
       " (0.8, 0.705, 0.143, 0.238),\n",
       " (0.81, 0.704, 0.136, 0.227),\n",
       " (0.8200000000000001, 0.698, 0.125, 0.212),\n",
       " (0.8300000000000001, 0.698, 0.119, 0.203),\n",
       " (0.84, 0.691, 0.115, 0.197),\n",
       " (0.85, 0.702, 0.11, 0.191),\n",
       " (0.86, 0.705, 0.103, 0.179),\n",
       " (0.87, 0.722, 0.097, 0.171),\n",
       " (0.88, 0.724, 0.091, 0.161),\n",
       " (0.89, 0.767, 0.086, 0.155),\n",
       " (0.9, 0.75, 0.076, 0.138),\n",
       " (0.91, 0.788, 0.073, 0.133),\n",
       " (0.92, 0.774, 0.061, 0.113),\n",
       " (0.93, 0.776, 0.055, 0.103),\n",
       " (0.9400000000000001, 0.754, 0.049, 0.091),\n",
       " (0.9500000000000001, 0.726, 0.042, 0.08),\n",
       " (0.96, 0.698, 0.035, 0.066),\n",
       " (0.97, 0.727, 0.03, 0.057),\n",
       " (0.98, 0.71, 0.021, 0.04),\n",
       " (0.99, 0.556, 0.009, 0.018)]"
      ]
     },
     "execution_count": 45,
     "metadata": {},
     "output_type": "execute_result"
    }
   ],
   "source": [
    "scores = []\n",
    "thresholds = np.arange(0, 1, 0.01)\n",
    "\n",
    "for t in thresholds:\n",
    "    actual_positive = (y_val == 1)\n",
    "    actual_negative = (y_val == 0)\n",
    "    \n",
    "    predict_positive = (y_pred >= t)\n",
    "    predict_negative = (y_pred < t)\n",
    "\n",
    "    tp = (predict_positive & actual_positive).sum()\n",
    "    tn = (predict_negative & actual_negative).sum()\n",
    "\n",
    "    fp = (predict_positive & actual_negative).sum()\n",
    "    fn = (predict_negative & actual_positive).sum()\n",
    "\n",
    "    precision = tp / (tp + fp)\n",
    "    recall = tp / (tp + fn)\n",
    "    f1 =  (2 * precision * recall)/(precision + recall)\n",
    "    \n",
    "    scores.append((t, precision.round(3), recall.round(3), f1.round(3)))\n",
    "    \n",
    "scores"
   ]
  },
  {
   "cell_type": "code",
   "execution_count": 47,
   "id": "6961c2d9-f089-4236-95a6-dd56241b0955",
   "metadata": {},
   "outputs": [
    {
     "data": {
      "image/png": "[encoded data removed]",
      "text/plain": [
       "<Figure size 800x600 with 1 Axes>"
      ]
     },
     "metadata": {},
     "output_type": "display_data"
    }
   ],
   "source": [
    "scores = np.array(scores)\n",
    "precision = scores[:, 1]\n",
    "recall = scores[:, 2]\n",
    "\n",
    "plt.figure(figsize=(8, 6))\n",
    "plt.plot(thresholds, precision, label=\"Precision\", color='b')\n",
    "plt.plot(thresholds, recall, label=\"Recall\", color='g')\n",
    "plt.xlabel('Threshold')\n",
    "plt.ylabel('Score')\n",
    "plt.legend()\n",
    "plt.grid(True)\n",
    "plt.show()"
   ]
  },
  {
   "cell_type": "code",
   "execution_count": null,
   "id": "8826e416-2d1c-4100-afed-09e965bf91e4",
   "metadata": {},
   "outputs": [],
   "source": [
    "columns = ['threshold', 'precision', 'recall', 'f1-score']\n",
    "df_scores = pd.DataFrame(scores, columns=columns)\n",
    "\n",
    "df_scores[::10]"
   ]
  },
  {
   "cell_type": "code",
   "execution_count": null,
   "id": "1480d6f2-0f8e-417a-afb3-6c0df369ff07",
   "metadata": {},
   "outputs": [],
   "source": [
    "df_scores[['precision', 'recall']]"
   ]
  },
  {
   "cell_type": "code",
   "execution_count": null,
   "id": "d233d8ef-ad01-41b1-97e0-55b44056e6a2",
   "metadata": {},
   "outputs": [],
   "source": [
    "plt.xlim([0.0, 1.0])\n",
    "plt.ylim([0.0, 1.0])\n",
    "plt.xlabel('threshold')\n",
    "plt.ylabel('score')\n",
    "plt.plot(thresholds, df_scores[['precision', 'recall']])\n",
    "plt.legend()\n",
    "plt.scatter(x=0.265, y=0.57, c='r', marker= '*')"
   ]
  },
  {
   "cell_type": "code",
   "execution_count": null,
   "id": "24e21896-d0cd-4452-8a04-16dbefb07f7c",
   "metadata": {},
   "outputs": [],
   "source": [
    "plt.xlim([0.0, 1.0])\n",
    "plt.ylim([0.0, 1.0])\n",
    "plt.xlabel('threshold')\n",
    "plt.ylabel('score')\n",
    "plt.plot(thresholds, df_scores['f1-score'])\n",
    "plt.legend()\n",
    "plt.scatter(x=0.22, y=0.6, c='r', marker= '*')"
   ]
  },
  {
   "cell_type": "markdown",
   "id": "9763277e-c376-4876-b979-8ed81647d5b1",
   "metadata": {},
   "source": [
    "## K-fold Cross Validation\n",
    "from sklearn.model_selection import KFold\n"
   ]
  },
  {
   "cell_type": "code",
   "execution_count": 50,
   "id": "e601a0e0-ce90-439f-910b-e4b04fbf412a",
   "metadata": {},
   "outputs": [],
   "source": [
    "from sklearn.model_selection import KFold"
   ]
  },
  {
   "cell_type": "code",
   "execution_count": 51,
   "id": "8900ba0c-15a4-4399-9343-2dd1e2bb1146",
   "metadata": {},
   "outputs": [],
   "source": [
    "kfold = KFold(n_splits=5, shuffle=True, random_state=1)\n",
    "train_idx, val_idx = next(kfold.split(df_full_train)) "
   ]
  },
  {
   "cell_type": "code",
   "execution_count": 52,
   "id": "b1b0f7c9-cd96-406b-be7c-a8e8a2b8049a",
   "metadata": {},
   "outputs": [
    {
     "data": {
      "text/plain": [
       "(28934, 7234, 36168)"
      ]
     },
     "execution_count": 52,
     "metadata": {},
     "output_type": "execute_result"
    }
   ],
   "source": [
    "len(train_idx), len(val_idx), len(df_full_train)\n"
   ]
  },
  {
   "cell_type": "code",
   "execution_count": 69,
   "id": "2ea03ce9-3687-4060-9f75-609997eb3be9",
   "metadata": {},
   "outputs": [],
   "source": [
    "df_train = df_full_train.iloc[train_idx]\n",
    "df_val = df_full_train.iloc[val_idx]\n",
    "\n",
    "y_train = y_full_train[train_idx]\n",
    "y_val = y_full_train[val_idx]\n"
   ]
  },
  {
   "cell_type": "code",
   "execution_count": 97,
   "id": "4b637346-7f4f-45ce-919f-91b76b690579",
   "metadata": {},
   "outputs": [],
   "source": [
    "def train(df_train, y_train, C=1.0):\n",
    "    dicts = df_train[categorical_features + numerical_features].to_dict(orient='records')\n",
    "\n",
    "    dv = DictVectorizer(sparse=False)\n",
    "    X_train = dv.fit_transform(dicts)\n",
    "\n",
    "    model = LogisticRegression(solver='liblinear', C=C, max_iter=1000)\n",
    "    model.fit(X_train, y_train)\n",
    "    \n",
    "    return dv, model"
   ]
  },
  {
   "cell_type": "code",
   "execution_count": 71,
   "id": "d5ae9c09-9a03-4dca-bb03-133afc19be6c",
   "metadata": {},
   "outputs": [],
   "source": [
    "dv, model = train(df_train, y_train, C=0.001)"
   ]
  },
  {
   "cell_type": "code",
   "execution_count": 72,
   "id": "be7ee5fc-31fb-4c24-9399-fd733616f81e",
   "metadata": {},
   "outputs": [],
   "source": [
    "def predict(df, dv, model):\n",
    "    dicts = df[categorical_features + numerical_features].to_dict(orient='records')\n",
    "\n",
    "    X = dv.transform(dicts)\n",
    "    y_pred = model.predict_proba(X)[:, 1]\n",
    "\n",
    "    return y_pred"
   ]
  },
  {
   "cell_type": "code",
   "execution_count": 73,
   "id": "96750070-5c66-43f5-ae66-a3e421199772",
   "metadata": {},
   "outputs": [
    {
     "data": {
      "text/plain": [
       "array([0.005, 0.077, 0.048, ..., 0.114, 0.046, 0.502])"
      ]
     },
     "execution_count": 73,
     "metadata": {},
     "output_type": "execute_result"
    }
   ],
   "source": [
    "y_pred = predict(df_val, dv, model)\n",
    "y_pred.round(3)"
   ]
  },
  {
   "cell_type": "code",
   "execution_count": 82,
   "id": "f287f041-1281-4aa5-b277-733f1b9f8a03",
   "metadata": {},
   "outputs": [
    {
     "name": "stdout",
     "output_type": "stream",
     "text": [
      "0.916462439723447 0.9061148129567789 0.007699480264420594\n"
     ]
    }
   ],
   "source": [
    "auc_list =[]\n",
    "\n",
    "for train_idx, val_idx in kfold.split(df_full_train):\n",
    "    df_train = df_full_train.iloc[train_idx]\n",
    "    df_val = df_full_train.iloc[val_idx]\n",
    "\n",
    "    y_train = y_full_train[train_idx]\n",
    "    y_val = y_full_train[val_idx]\n",
    "\n",
    "    dv, model = train(df_train, y_train)\n",
    "    y_pred = predict(df_val, dv, model)\n",
    "\n",
    "    auc = roc_auc_score(y_val, y_pred)\n",
    "    auc_list.append(auc)\n",
    "\n",
    "mean_auc = np.mean(auc_list)\n",
    "std_auc = np.std(auc_list)\n",
    "\n"
   ]
  },
  {
   "cell_type": "code",
   "execution_count": 84,
   "id": "742f2844-0ea2-4417-94ea-05b841f4beb9",
   "metadata": {},
   "outputs": [
    {
     "name": "stdout",
     "output_type": "stream",
     "text": [
      "[0.910361651544213, 0.9046770991036455, 0.9059662073370384, 0.8931066670755506, 0.916462439723447]\n",
      "0.9061 0.0077\n"
     ]
    }
   ],
   "source": [
    "print(auc_list)\n",
    "print(mean_auc.round(4), std_auc.round(4))\n"
   ]
  },
  {
   "cell_type": "code",
   "execution_count": 94,
   "id": "5e671a1d-195a-4582-8d19-6afc46698129",
   "metadata": {},
   "outputs": [
    {
     "data": {
      "image/png": "[encoded data removed]",
      "text/plain": [
       "<Figure size 1000x600 with 1 Axes>"
      ]
     },
     "metadata": {},
     "output_type": "display_data"
    }
   ],
   "source": [
    "plt.figure(figsize=(10, 6))\n",
    "plt.plot(range(1, len(auc_list) + 1), auc_list, marker='o')\n",
    "plt.title('AUC for Each Fold')\n",
    "plt.xlabel('Fold Number')\n",
    "plt.ylabel('AUC')\n",
    "plt.grid()\n",
    "plt.show()"
   ]
  },
  {
   "cell_type": "markdown",
   "id": "26077f57-c35f-4863-b2eb-b3dcc04b837a",
   "metadata": {},
   "source": [
    "## Hyperparameter Tuning"
   ]
  },
  {
   "cell_type": "code",
   "execution_count": 96,
   "id": "787698a7-2893-4194-b326-23c8e94124cc",
   "metadata": {},
   "outputs": [],
   "source": [
    "from tqdm.auto import tqdm"
   ]
  },
  {
   "cell_type": "code",
   "execution_count": 103,
   "id": "fb4f41fb-e68d-4e8b-96cb-e47848b5737a",
   "metadata": {},
   "outputs": [
    {
     "data": {
      "application/vnd.jupyter.widget-view+json": {
       "model_id": "dacc4a51ab674b1187dcfb2fb63f7bd5",
       "version_major": 2,
       "version_minor": 0
      },
      "text/plain": [
       "  0%|          | 0/3 [00:00<?, ?it/s]"
      ]
     },
     "metadata": {},
     "output_type": "display_data"
    },
    {
     "name": "stdout",
     "output_type": "stream",
     "text": [
      "C=1e-06, mean= 0.695, std= 0.009\n",
      "C=0.001, mean= 0.861, std= 0.006\n",
      "C=1, mean= 0.906, std= 0.008\n",
      "Done\n"
     ]
    }
   ],
   "source": [
    "n_splits = 5\n",
    "kfold = KFold(n_splits=n_splits, shuffle=True, random_state=1)\n",
    "\n",
    "auc_list= []\n",
    "\n",
    "for C in tqdm([0.000001, 0.001, 1]):\n",
    "    auc_list = []\n",
    "    for train_idx, val_idx in kfold.split(df_full_train):\n",
    "        df_train = df_full_train.iloc[train_idx]\n",
    "        df_val = df_full_train.iloc[val_idx]\n",
    "\n",
    "        y_train = df_train.y.values\n",
    "        y_val = df_val.y.values\n",
    "\n",
    "        dv, model = train(df_train, y_train, C=C)\n",
    "        y_pred = predict(df_val, dv, model)\n",
    "\n",
    "        auc = roc_auc_score(y_val, y_pred)\n",
    "        auc_list.append(auc)\n",
    "\n",
    "    mean_auc = np.mean(auc_list)\n",
    "    std_auc = np.std(auc_list)\n",
    "\n",
    "    print(f'C={C}, mean= {mean_auc.round(3)}, std= {std_auc.round(3)}')\n",
    "\n",
    "print('Done')"
   ]
  },
  {
   "cell_type": "code",
   "execution_count": null,
   "id": "c323254f-c33b-4963-85c8-78fcc441e525",
   "metadata": {},
   "outputs": [],
   "source": []
  },
  {
   "cell_type": "code",
   "execution_count": null,
   "id": "5072f736-6c53-4983-bcdc-fa1e2c2bb59e",
   "metadata": {},
   "outputs": [],
   "source": []
  },
  {
   "cell_type": "code",
   "execution_count": null,
   "id": "d90bc4d9-fe4e-4476-80e1-6812caef47a7",
   "metadata": {},
   "outputs": [],
   "source": []
  },
  {
   "cell_type": "code",
   "execution_count": null,
   "id": "da43045d-fd5b-485e-89af-29b4b4ba3e9d",
   "metadata": {},
   "outputs": [],
   "source": []
  },
  {
   "cell_type": "code",
   "execution_count": null,
   "id": "0ecd5860-a93f-4df6-8ec9-12e544d5510e",
   "metadata": {},
   "outputs": [],
   "source": []
  }
 ],
 "metadata": {
  "kernelspec": {
   "display_name": "Python 3 (ipykernel)",
   "language": "python",
   "name": "python3"
  },
  "language_info": {
   "codemirror_mode": {
    "name": "ipython",
    "version": 3
   },
   "file_extension": ".py",
   "mimetype": "text/x-python",
   "name": "python",
   "nbconvert_exporter": "python",
   "pygments_lexer": "ipython3",
   "version": "3.11.2"
  }
 },
 "nbformat": 4,
 "nbformat_minor": 5
}
